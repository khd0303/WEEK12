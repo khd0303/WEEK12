{
  "nbformat": 4,
  "nbformat_minor": 0,
  "metadata": {
    "colab": {
      "provenance": [],
      "authorship_tag": "ABX9TyP3PLEUEIYJAdDrfidauJyb",
      "include_colab_link": true
    },
    "kernelspec": {
      "name": "python3",
      "display_name": "Python 3"
    },
    "language_info": {
      "name": "python"
    }
  },
  "cells": [
    {
      "cell_type": "markdown",
      "metadata": {
        "id": "view-in-github",
        "colab_type": "text"
      },
      "source": [
        "<a href=\"https://colab.research.google.com/github/khd0303/WEEK12/blob/main/WEEK12.ipynb\" target=\"_parent\"><img src=\"https://colab.research.google.com/assets/colab-badge.svg\" alt=\"Open In Colab\"/></a>"
      ]
    },
    {
      "cell_type": "code",
      "execution_count": null,
      "metadata": {
        "colab": {
          "base_uri": "https://localhost:8080/"
        },
        "id": "lwU0nqy__niE",
        "outputId": "867a4b1e-5ba3-401d-c8f8-f7517fb0a3a3"
      },
      "outputs": [
        {
          "output_type": "stream",
          "name": "stdout",
          "text": [
            "200 - 100 =  100\n",
            "200 - 100 =  100\n"
          ]
        }
      ],
      "source": [
        "#lab 10-1\n",
        "#1\n",
        "def sub1(num1,num2):\n",
        "  result = num1 - num2\n",
        "  return result\n",
        "\n",
        "print('200 - 100 = ',sub1(200,100))\n",
        "#2\n",
        "sub2 = lambda x,y: x-y\n",
        "\n",
        "print('200 - 100 = ',sub2(200,100))\n"
      ]
    },
    {
      "cell_type": "code",
      "source": [
        "#lab 10-2\n",
        "\n",
        "#1\n",
        "#1)\n",
        "n_list = [1,2,3,4,5,6,7,8,9,10]\n",
        "even_list1 = []\n",
        "\n",
        "for a in filter(lambda x : x %2 == 0,n_list):\n",
        "  even_list1.append(a)\n",
        "\n",
        "print('even_list = ',even_list1)   \n",
        "  \n",
        "#2)\n",
        "even_list2 = list()\n",
        "for a in filter(lambda x : x %2 == 0,n_list):\n",
        "  even_list2.append(a)\n",
        "print('even_list = ',even_list2)   \n",
        "#2\n",
        "#1)\n",
        "odd_list = []\n",
        "\n",
        "for a in filter(lambda x : x % 2 == 1,n_list):\n",
        "\n",
        "  odd_list.append(a)\n",
        "\n",
        "print('odd_list = ',odd_list) \n",
        "#2)\n",
        "odd_list2 = list()\n",
        "for a in filter(lambda x : x %2 == 1,n_list):\n",
        "  odd_list2.append(a)\n",
        "print('odd_list = ',odd_list2)  "
      ],
      "metadata": {
        "colab": {
          "base_uri": "https://localhost:8080/"
        },
        "id": "TC7CaFXdCqRw",
        "outputId": "08d7acff-2168-4574-bd55-4ab7cdde9353"
      },
      "execution_count": null,
      "outputs": [
        {
          "output_type": "stream",
          "name": "stdout",
          "text": [
            "even_list =  [2, 4, 6, 8, 10]\n",
            "even_list =  [2, 4, 6, 8, 10]\n",
            "odd_list =  [1, 3, 5, 7, 9]\n",
            "odd_list =  [1, 3, 5, 7, 9]\n"
          ]
        }
      ]
    },
    {
      "cell_type": "code",
      "source": [
        "#lab10-3\n",
        "\n",
        "#1\n",
        "#1)\n",
        "def to_upper(a):\n",
        "  result = a.upper()\n",
        "  return result\n",
        "\n",
        "\n",
        "a_list = ['a','b','c','d']\n",
        "\n",
        "upper_a_list = list(map(to_upper,a_list))\n",
        "\n",
        "print('upper_a_list =',upper_a_list)\n",
        "\n",
        "#2)\n",
        "upper_a_list = list(map(lambda x: x.upper(),a_list))\n",
        "\n",
        "print('upper_a_list =',upper_a_list)\n",
        "\n",
        "#2\n",
        "\n",
        "n_list = [10,20,30]\n",
        "\n",
        "def twice(a):\n",
        "  return a * 2\n",
        "def triple(a):\n",
        "  return a * 3 \n",
        "\n",
        "print('입력값의 두배 :',list(map(twice,n_list)))   \n",
        "print('입력값의 세배 :',list(map(triple,n_list)))   \n",
        "\n",
        "#2\n",
        "\n",
        "\n",
        "print('입력값의 두배 :',list(map(lambda x: x * 2,n_list)))   \n",
        "print('입력값의 세배 :',list(map(lambda x: x * 3,n_list)))   \n"
      ],
      "metadata": {
        "colab": {
          "base_uri": "https://localhost:8080/"
        },
        "id": "9eZznmWVF5yO",
        "outputId": "36361408-f54c-4e62-cfa6-f22bf58a3569"
      },
      "execution_count": null,
      "outputs": [
        {
          "output_type": "stream",
          "name": "stdout",
          "text": [
            "upper_a_list = ['A', 'B', 'C', 'D']\n",
            "upper_a_list = ['A', 'B', 'C', 'D']\n",
            "입력값의 두배 : [20, 40, 60]\n",
            "입력값의 세배 : [30, 60, 90]\n",
            "입력값의 두배 : [20, 40, 60]\n",
            "입력값의 세배 : [30, 60, 90]\n"
          ]
        }
      ]
    },
    {
      "cell_type": "code",
      "source": [
        "#lab 10-4\n",
        "from functools import reduce\n",
        "#1\n",
        "\n",
        "result = reduce(lambda x,y:x+y,range(1,101))\n",
        "print('1에서 100까지의 합 ',result)\n",
        "\n",
        "\n",
        "#2\n",
        "result = reduce(lambda x,y: x*y,range(1,11))\n",
        "print('10! =',result)"
      ],
      "metadata": {
        "colab": {
          "base_uri": "https://localhost:8080/"
        },
        "id": "NOk7HO-eDaou",
        "outputId": "db324939-d7cd-4750-eb8e-93640fd797c7"
      },
      "execution_count": null,
      "outputs": [
        {
          "output_type": "stream",
          "name": "stdout",
          "text": [
            "1에서 100까지의 합  5050\n",
            "10! = 3628800\n"
          ]
        }
      ]
    },
    {
      "cell_type": "code",
      "source": [
        "#lab 10-5\n",
        "#1\n",
        "list_num = [1,2,3,4,5,6,7,8,9,10]\n",
        "num = [x **3 for x in list_num]\n",
        "print('cubic =' ,num)\n",
        "#2\n",
        "a = ['welcome','to','the','python','world']\n",
        "first_a = [x[0:1] for x in a]\n",
        "\n",
        "print('first_a =',first_a)"
      ],
      "metadata": {
        "colab": {
          "base_uri": "https://localhost:8080/"
        },
        "id": "sfpkgoFFI0mm",
        "outputId": "79fbab3d-f08c-4717-8487-d2ab6f8f7e6c"
      },
      "execution_count": null,
      "outputs": [
        {
          "output_type": "stream",
          "name": "stdout",
          "text": [
            "cubic = [1, 8, 27, 64, 125, 216, 343, 512, 729, 1000]\n",
            "first_a = ['w', 't', 't', 'p', 'w']\n"
          ]
        }
      ]
    },
    {
      "cell_type": "code",
      "source": [
        "#lab 10-6\n",
        "#1\n",
        "list_num = [1,2,3,4,5,6,7,8,9,10]\n",
        "#num = [x **3 for x in list_num]\n",
        "print('cubic =',[x**3 for x in list_num if x**3 < 500 ])\n",
        "\n",
        "#2\n",
        "st = 'Hello 1234 Python '\n",
        "\n",
        "result = [n for n in st if str.isdigit(n) == True]\n",
        "print(result)\n"
      ],
      "metadata": {
        "colab": {
          "base_uri": "https://localhost:8080/"
        },
        "id": "Few_E90xLde_",
        "outputId": "28b23465-e0a2-43e4-a750-e8c8aa74b267"
      },
      "execution_count": null,
      "outputs": [
        {
          "output_type": "stream",
          "name": "stdout",
          "text": [
            "cubic = [1, 8, 27, 64, 125, 216, 343]\n",
            "['1', '2', '3', '4']\n"
          ]
        }
      ]
    },
    {
      "cell_type": "code",
      "source": [
        "#lab 10-7\n",
        "class EvenCounter:\n",
        "  def __init__(self,n =0):\n",
        "    self.n = n\n",
        "\n",
        "  def __iter__(self):\n",
        "    return self\n",
        "  def __next__(self):\n",
        "    if self.n < 10:\n",
        "      t = self.n\n",
        "      self.n +=2\n",
        "      return t\n",
        "    raise StopIteration\n",
        "my_even = EvenCounter()\n",
        "for x in my_even:\n",
        "  print(x,end = ' ')\n",
        "\n",
        "print()\n",
        "print()  \n",
        "class EvenCounter1:\n",
        "  def __init__(self,n =0):\n",
        "    self.n = n\n",
        "\n",
        "  def __iter__(self):\n",
        "    return self\n",
        "  def __next__(self):\n",
        "    if self.n < 21:\n",
        "      t = self.n\n",
        "      self.n +=2\n",
        "      return t\n",
        "    raise StopIteration\n",
        "my_even = EvenCounter1()\n",
        "for x in my_even:\n",
        "  print(x,end = ' ')    "
      ],
      "metadata": {
        "colab": {
          "base_uri": "https://localhost:8080/"
        },
        "id": "-jTL5MW7RHlE",
        "outputId": "f19c9724-459e-4052-edea-9d80d238e342"
      },
      "execution_count": null,
      "outputs": [
        {
          "output_type": "stream",
          "name": "stdout",
          "text": [
            "0 2 4 6 8 \n",
            "\n",
            "0 2 4 6 8 10 12 14 16 18 20 "
          ]
        }
      ]
    },
    {
      "cell_type": "code",
      "source": [
        "#lab 10-8\n",
        "#1\n",
        "txt = 'Welcome to Busan Metropolitan City'\n",
        "txt.split()\n",
        "\n",
        "#2\n",
        "greet = 'Hello,My name is DongMin,Good to see you again'\n",
        "greet.split(',')\n",
        "#3\n",
        "fruits ='Apple|Banana|Melon|Orange'\n",
        "\n",
        "fruits.split('|')"
      ],
      "metadata": {
        "colab": {
          "base_uri": "https://localhost:8080/"
        },
        "id": "HYxBcPaETDLO",
        "outputId": "5feda845-6f6c-4887-ad75-8108a33b0651"
      },
      "execution_count": null,
      "outputs": [
        {
          "output_type": "execute_result",
          "data": {
            "text/plain": [
              "['Apple', 'Banana', 'Melon', 'Orange']"
            ]
          },
          "metadata": {},
          "execution_count": 42
        }
      ]
    },
    {
      "cell_type": "code",
      "source": [
        "class fibonacci:\n",
        "  def __init__(self,stop):\n",
        "    self.stop = stop\n",
        "    self.current = 0\n",
        "  def __iter__(self):\n",
        "    return self\n",
        "  def __next__(self):\n",
        "    if self.current < self.stop:\n",
        "      r = self.current\n",
        "      self.current +=1\n"
      ],
      "metadata": {
        "id": "ZkfVz0LKfbUc"
      },
      "execution_count": null,
      "outputs": []
    }
  ]
}